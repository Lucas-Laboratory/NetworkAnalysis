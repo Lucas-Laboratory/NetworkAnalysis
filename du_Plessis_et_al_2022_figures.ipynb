{
 "cells": [
  {
   "cell_type": "code",
   "execution_count": null,
   "metadata": {},
   "outputs": [],
   "source": [
    "import os\n",
    "import pickle\n",
    "\n",
    "import numpy as np\n",
    "import matplotlib.pyplot as plt\n",
    "import pandas as pd\n",
    "\n",
    "import funcs\n",
    "import hubs\n",
    "import clusters as clust\n",
    "\n",
    "import correlations_figure as cf\n",
    "import cluster_graphs_figure as cgf\n",
    "import metrics_figures as mf\n",
    "import hubs_multiple_trials_figure as hmtf\n",
    "import figures as f\n",
    "\n",
    "paper_folder = 'du_Plessis_et_al_2022/'\n"
   ]
  },
  {
   "cell_type": "markdown",
   "metadata": {},
   "source": [
    "#### Import data:\n",
    "#### The functions here require access to a set of raw data.\n",
    "#### This can be loaded using 'funcs.load_data'.\n",
    "#### The format for 'data' object is a pandas DataFrame, with rows labelled as 'Region', and Columns use MultiIndex with 2 levels: 'group', and animal name (any string)\n",
    "#### Results of this are used to create most figures, and are already stored in threshold_results_dict.dat file in the paper folder"
   ]
  },
  {
   "cell_type": "code",
   "execution_count": null,
   "metadata": {},
   "outputs": [],
   "source": [
    "# With access to the data file, load it here:\n",
    "# data = funcs.load_data()\n",
    "# groups = data.columns.get_level_values('group').unique()\n",
    "\n",
    "# Or just set up group names:\n",
    "groups = ['naive_male', 'naive_female', 'trained_male', 'trained_female']"
   ]
  },
  {
   "cell_type": "code",
   "execution_count": null,
   "metadata": {},
   "outputs": [],
   "source": [
    "thresholds = np.linspace(0.005, 0.05, 10)\n",
    "threshold_type = 'p'\n",
    "method = 'pearson'\n",
    "\n",
    "thresholds_results_dict = {}\n",
    "thresholds = np.linspace(0.005, 0.05, 10)"
   ]
  },
  {
   "cell_type": "code",
   "execution_count": null,
   "metadata": {},
   "outputs": [],
   "source": [
    "# This initial analysis takes ~5 minutes to compute, and\n",
    "# requires access to the original data.\n",
    "# Alternatively can load from dat files in cell below\n",
    "\n",
    "for threshold in thresholds:\n",
    "    adj_mat_dict = funcs.get_adj_mat_dict_for_groups(data, groups,\n",
    "                                                threshold_type=threshold_type,\n",
    "                                                threshold=threshold,\n",
    "                                                method=method)\n",
    "    cluster_ids_dict = clust.get_cluster_ids_for_groups(data, groups,\n",
    "                                                threshold_type=threshold_type,\n",
    "                                                threshold=threshold,\n",
    "                                                method=method)\n",
    "    gr_dict = {}\n",
    "    hub_dict = {}\n",
    "    for group in groups:\n",
    "        gr_dict[group] = cgf.create_graph(adj_mat_dict[group])\n",
    "        hub_dict[group] = hubs.centrality_measures_with_hub_regions(data, \n",
    "                                    group=group,\n",
    "                                    threshold_type=threshold_type,\n",
    "                                    threshold=threshold,\n",
    "                                    method=method)\n",
    "    thresholds_results_dict[threshold] = (adj_mat_dict, cluster_ids_dict, hub_dict, gr_dict)\n",
    "\n",
    "with open(paper_folder+'thresholds_results_dict.dat', 'wb') as f:\n",
    "    pickle.dump(thresholds_results_dict, f)\n"
   ]
  },
  {
   "cell_type": "code",
   "execution_count": null,
   "metadata": {},
   "outputs": [],
   "source": [
    "thresholds_results_dict = pickle.load(open(paper_folder+'thresholds_results_dict.dat', 'rb'))"
   ]
  },
  {
   "cell_type": "code",
   "execution_count": null,
   "metadata": {},
   "outputs": [],
   "source": [
    "hubs_all_thresholds = {}\n",
    "for group in groups:\n",
    "    hub_dict_list = []\n",
    "    for threshold in thresholds_results_dict.keys():\n",
    "        hub_dict_list.append(thresholds_results_dict[threshold][2][group])\n",
    "    hubs_all_thresholds[group] = hubs.hub_counts_for_multiple_trials(hub_dict_list)"
   ]
  },
  {
   "cell_type": "code",
   "execution_count": null,
   "metadata": {},
   "outputs": [],
   "source": [
    "metrics_naive_male_list = pickle.load(open(paper_folder+'metrics_naive_male_list.dat', 'rb'))\n",
    "metrics_trained_male_list = pickle.load(open(paper_folder+'metrics_trained_male_list.dat', 'rb'))\n",
    "metrics_naive_female_list = pickle.load(open(paper_folder+'metrics_naive_female_list.dat', 'rb'))\n",
    "metrics_trained_female_list = pickle.load(open(paper_folder+'metrics_trained_female_list.dat', 'rb'))\n",
    "all_groups_metrics = metrics_naive_male_list + \\\n",
    "                     metrics_naive_female_list + \\\n",
    "                     metrics_trained_male_list + \\\n",
    "                     metrics_trained_female_list\n",
    "metrics_all_groups_df = pd.DataFrame(all_groups_metrics)"
   ]
  },
  {
   "cell_type": "markdown",
   "metadata": {},
   "source": [
    "## Figure 3 -- Correlation matrices for each group"
   ]
  },
  {
   "cell_type": "code",
   "execution_count": null,
   "metadata": {},
   "outputs": [],
   "source": [
    "fig = cf.make_correlation_matrix_group_clusters_figure(\n",
    "    cluster_group='regionsB'\n",
    ")"
   ]
  },
  {
   "cell_type": "markdown",
   "metadata": {},
   "source": [
    "## Figure 4 -- Network graphs for each group, along with centrality metrics indicating hubs"
   ]
  },
  {
   "cell_type": "code",
   "execution_count": null,
   "metadata": {},
   "outputs": [],
   "source": [
    "primary_threshold = 0.05\n",
    "adj_mat_dict = thresholds_results_dict[primary_threshold][0]\n",
    "cluster_ids_dict = thresholds_results_dict[primary_threshold][1]\n",
    "hub_data_dict = thresholds_results_dict[primary_threshold][2]"
   ]
  },
  {
   "cell_type": "code",
   "execution_count": null,
   "metadata": {},
   "outputs": [],
   "source": [
    "tab20 = plt.get_cmap('tab20').colors\n",
    "color_select = [1,3,5,9,11,13,19,17,4,12,16,18,2,0]\n",
    "colors = [tab20[color_num] for color_num in color_select]\n",
    "figure_out = cgf.make_cluster_graph_4groups_figure(hub_data_dict=hub_dict, \n",
    "                                                   adj_mat_dict=adj_mat_dict, \n",
    "                                                   cluster_ids_dict=cluster_ids_dict,\n",
    "                                                   node_color_map=colors,\n",
    "                                                   node_layout='set_position',\n",
    "                                                   node_position_file=paper_folder+'node_pos_p05_size5_2.json')"
   ]
  },
  {
   "cell_type": "code",
   "execution_count": null,
   "metadata": {},
   "outputs": [],
   "source": [
    "# Positions of nodes can be edited in the figure if running in an\n",
    "# interactive mode, and then saved to a file like this:\n",
    "netgraphs_list = [fo[1] for fo in figure_out.values()]\n",
    "cgf.save_node_positions('node_pos_p05_size5_2.json', netgraphs_list, \n",
    "    groups_list=['naive_male', 'trained_male', 'naive_female', 'trained_female'])"
   ]
  },
  {
   "cell_type": "markdown",
   "metadata": {},
   "source": [
    "## Figure S1 -- metrics for primary threshold, for all groups, with randomizations"
   ]
  },
  {
   "cell_type": "code",
   "execution_count": null,
   "metadata": {},
   "outputs": [],
   "source": [
    "mf.make_network_metrics_primary_threshold_figure(\n",
    "    metrics_df=metrics_all_groups_df)"
   ]
  },
  {
   "cell_type": "markdown",
   "metadata": {},
   "source": [
    "## Figure S2 -- metrics for all thresholds, for all groups, with randomizations"
   ]
  },
  {
   "cell_type": "code",
   "execution_count": null,
   "metadata": {},
   "outputs": [],
   "source": [
    "mf.make_network_metrics_all_thresholds_figure(\n",
    "    metrics_df=metrics_all_groups_df.drop(metrics_all_groups_df[metrics_all_groups_df.small_worldness>1e6].index))"
   ]
  },
  {
   "cell_type": "markdown",
   "metadata": {},
   "source": [
    "## Figure S3 -- hub counts for multiple thresholds, for each group"
   ]
  },
  {
   "cell_type": "code",
   "execution_count": null,
   "metadata": {},
   "outputs": [],
   "source": [
    "hmtf.make_hub_counts_4groups_figure(thresholds_results_dict)"
   ]
  }
 ],
 "metadata": {
  "interpreter": {
   "hash": "bc1803fd0bb8c7db59da7bd0abf7987b4a198cdff8d19280e38ebcf14bd4d015"
  },
  "kernelspec": {
   "display_name": "Python 3 (ipykernel)",
   "language": "python",
   "name": "python3"
  },
  "language_info": {
   "codemirror_mode": {
    "name": "ipython",
    "version": 3
   },
   "file_extension": ".py",
   "mimetype": "text/x-python",
   "name": "python",
   "nbconvert_exporter": "python",
   "pygments_lexer": "ipython3",
   "version": "3.9.6"
  }
 },
 "nbformat": 4,
 "nbformat_minor": 2
}
